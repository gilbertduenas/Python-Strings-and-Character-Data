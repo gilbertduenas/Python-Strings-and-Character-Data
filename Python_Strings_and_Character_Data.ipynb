{
  "nbformat": 4,
  "nbformat_minor": 0,
  "metadata": {
    "colab": {
      "name": "Python Strings and Character Data",
      "provenance": [],
      "authorship_tag": "ABX9TyOlDqCB6jYJxU1kj3QAq5Wm",
      "include_colab_link": true
    },
    "kernelspec": {
      "name": "python3",
      "display_name": "Python 3"
    }
  },
  "cells": [
    {
      "cell_type": "markdown",
      "metadata": {
        "id": "view-in-github",
        "colab_type": "text"
      },
      "source": [
        "<a href=\"https://colab.research.google.com/github/gilbertduenas/Python-Strings-and-Character-Data/blob/master/Python_Strings_and_Character_Data.ipynb\" target=\"_parent\"><img src=\"https://colab.research.google.com/assets/colab-badge.svg\" alt=\"Open In Colab\"/></a>"
      ]
    },
    {
      "cell_type": "code",
      "metadata": {
        "id": "P3o_SL1Gjy-r",
        "colab_type": "code",
        "colab": {
          "base_uri": "https://localhost:8080/",
          "height": 34
        },
        "outputId": "e166ee55-c790-477c-bb4a-07fa8d69235e"
      },
      "source": [
        "s = 'foo'\n",
        "t = 'bar'\n",
        "print('barf' in 2 * (s + t))"
      ],
      "execution_count": 1,
      "outputs": [
        {
          "output_type": "stream",
          "text": [
            "True\n"
          ],
          "name": "stdout"
        }
      ]
    },
    {
      "cell_type": "markdown",
      "metadata": {
        "id": "wIpzGnSukl4E",
        "colab_type": "text"
      },
      "source": [
        "The + operator concatenates strings and the * operator creates multiple copies. The result of 2 * (s + t) is 'foobarfoobar', which does contain the string 'barf'.\n",
        "\n",
        "---"
      ]
    },
    {
      "cell_type": "code",
      "metadata": {
        "id": "RMTQ7U1HkP6L",
        "colab_type": "code",
        "colab": {
          "base_uri": "https://localhost:8080/",
          "height": 162
        },
        "outputId": "b4ffce76-fa00-4a72-fabe-dfae8cab64ca"
      },
      "source": [
        "print(ord('foo'))"
      ],
      "execution_count": 2,
      "outputs": [
        {
          "output_type": "error",
          "ename": "TypeError",
          "evalue": "ignored",
          "traceback": [
            "\u001b[0;31m---------------------------------------------------------------------------\u001b[0m",
            "\u001b[0;31mTypeError\u001b[0m                                 Traceback (most recent call last)",
            "\u001b[0;32m<ipython-input-2-fcfb99a2e7ea>\u001b[0m in \u001b[0;36m<module>\u001b[0;34m()\u001b[0m\n\u001b[0;32m----> 1\u001b[0;31m \u001b[0mprint\u001b[0m\u001b[0;34m(\u001b[0m\u001b[0mord\u001b[0m\u001b[0;34m(\u001b[0m\u001b[0;34m'foo'\u001b[0m\u001b[0;34m)\u001b[0m\u001b[0;34m)\u001b[0m\u001b[0;34m\u001b[0m\u001b[0;34m\u001b[0m\u001b[0m\n\u001b[0m",
            "\u001b[0;31mTypeError\u001b[0m: ord() expected a character, but string of length 3 found"
          ]
        }
      ]
    },
    {
      "cell_type": "markdown",
      "metadata": {
        "id": "v9s0e5KNk083",
        "colab_type": "text"
      },
      "source": [
        "The ord() function returns the integer value for a given character. But you can only specify a single character (a string of length 1):\n",
        "\n",
        "---"
      ]
    },
    {
      "cell_type": "code",
      "metadata": {
        "id": "lmQtYipBksoH",
        "colab_type": "code",
        "colab": {
          "base_uri": "https://localhost:8080/",
          "height": 35
        },
        "outputId": "6cff9e07-61d7-4682-f6e3-8a69931d6cd0"
      },
      "source": [
        "s = '0123456789abcdefghijklmnopqrstuvwxyz'\n",
        "s[::-3]"
      ],
      "execution_count": 3,
      "outputs": [
        {
          "output_type": "execute_result",
          "data": {
            "application/vnd.google.colaboratory.intrinsic": {
              "type": "string"
            },
            "text/plain": [
              "'zwtqnkheb852'"
            ]
          },
          "metadata": {
            "tags": []
          },
          "execution_count": 3
        }
      ]
    },
    {
      "cell_type": "code",
      "metadata": {
        "id": "cnmFpEChlUfj",
        "colab_type": "code",
        "colab": {
          "base_uri": "https://localhost:8080/",
          "height": 35
        },
        "outputId": "df9175b9-0b4a-4f76-baed-8c6d451e2958"
      },
      "source": [
        "s[::-3]"
      ],
      "execution_count": 4,
      "outputs": [
        {
          "output_type": "execute_result",
          "data": {
            "application/vnd.google.colaboratory.intrinsic": {
              "type": "string"
            },
            "text/plain": [
              "'zwtqnkheb852'"
            ]
          },
          "metadata": {
            "tags": []
          },
          "execution_count": 4
        }
      ]
    },
    {
      "cell_type": "code",
      "metadata": {
        "id": "7eOSiCPElzQD",
        "colab_type": "code",
        "colab": {
          "base_uri": "https://localhost:8080/",
          "height": 35
        },
        "outputId": "e9a768a1-53a0-43d0-fc4c-538da69b70c9"
      },
      "source": [
        "s[-1::-3]"
      ],
      "execution_count": 5,
      "outputs": [
        {
          "output_type": "execute_result",
          "data": {
            "application/vnd.google.colaboratory.intrinsic": {
              "type": "string"
            },
            "text/plain": [
              "'zwtqnkheb852'"
            ]
          },
          "metadata": {
            "tags": []
          },
          "execution_count": 5
        }
      ]
    },
    {
      "cell_type": "code",
      "metadata": {
        "id": "nZyxe0myl1Ru",
        "colab_type": "code",
        "colab": {
          "base_uri": "https://localhost:8080/",
          "height": 35
        },
        "outputId": "9d0acd37-df3e-4ecb-cba4-c9db3e5baf95"
      },
      "source": [
        "s[:0:-3]"
      ],
      "execution_count": 6,
      "outputs": [
        {
          "output_type": "execute_result",
          "data": {
            "application/vnd.google.colaboratory.intrinsic": {
              "type": "string"
            },
            "text/plain": [
              "'zwtqnkheb852'"
            ]
          },
          "metadata": {
            "tags": []
          },
          "execution_count": 6
        }
      ]
    },
    {
      "cell_type": "code",
      "metadata": {
        "id": "M6N-0sAal2wz",
        "colab_type": "code",
        "colab": {
          "base_uri": "https://localhost:8080/",
          "height": 35
        },
        "outputId": "98668897-87ac-420f-ca92-650a0feca017"
      },
      "source": [
        "s[-1:0:-3]"
      ],
      "execution_count": 7,
      "outputs": [
        {
          "output_type": "execute_result",
          "data": {
            "application/vnd.google.colaboratory.intrinsic": {
              "type": "string"
            },
            "text/plain": [
              "'zwtqnkheb852'"
            ]
          },
          "metadata": {
            "tags": []
          },
          "execution_count": 7
        }
      ]
    },
    {
      "cell_type": "markdown",
      "metadata": {
        "id": "nKwn3LmzleHK",
        "colab_type": "text"
      },
      "source": [
        "The third index in the slice expression is -3, which indicates every third character stepping backward.\n",
        "\n",
        "The first and second indices should be -1 (the last character) and 0 (the first character). Either of these can be allowed to default.\n",
        "\n",
        "---"
      ]
    },
    {
      "cell_type": "code",
      "metadata": {
        "id": "lZQ4nIPyllB6",
        "colab_type": "code",
        "colab": {}
      },
      "source": [
        "s = 'foobar'"
      ],
      "execution_count": 8,
      "outputs": []
    },
    {
      "cell_type": "code",
      "metadata": {
        "id": "RXWfC-lpmC4w",
        "colab_type": "code",
        "colab": {
          "base_uri": "https://localhost:8080/",
          "height": 35
        },
        "outputId": "b36b1ef1-cd36-499d-95ea-f3168198c940"
      },
      "source": [
        "s[::-1][-1] + s[len(s)-1]"
      ],
      "execution_count": 9,
      "outputs": [
        {
          "output_type": "execute_result",
          "data": {
            "application/vnd.google.colaboratory.intrinsic": {
              "type": "string"
            },
            "text/plain": [
              "'fr'"
            ]
          },
          "metadata": {
            "tags": []
          },
          "execution_count": 9
        }
      ]
    },
    {
      "cell_type": "markdown",
      "metadata": {
        "id": "UjD0Frd71JQN",
        "colab_type": "text"
      },
      "source": [
        "\n",
        "\n",
        "- s[::-1] reverses the string, so it equals 'raboof'. The added [-1] index specifies the last character of that string, 'f'.\n",
        "- s[len(s)-1] is the same as s[-1]—the last character of the original string, 'r'."
      ]
    },
    {
      "cell_type": "code",
      "metadata": {
        "id": "FsaXq4GTmVuQ",
        "colab_type": "code",
        "colab": {
          "base_uri": "https://localhost:8080/",
          "height": 35
        },
        "outputId": "5d970ebb-de46-45f3-9e91-363ff6e38c39"
      },
      "source": [
        "s[0] + s[-1]"
      ],
      "execution_count": 10,
      "outputs": [
        {
          "output_type": "execute_result",
          "data": {
            "application/vnd.google.colaboratory.intrinsic": {
              "type": "string"
            },
            "text/plain": [
              "'fr'"
            ]
          },
          "metadata": {
            "tags": []
          },
          "execution_count": 10
        }
      ]
    },
    {
      "cell_type": "markdown",
      "metadata": {
        "id": "QU3xvAdIm-G4",
        "colab_type": "text"
      },
      "source": [
        "- s[0] is the first character, 'f'.\n",
        "- s[-1] is the last character, 'r'."
      ]
    },
    {
      "cell_type": "code",
      "metadata": {
        "id": "DKJbyMIsmaUJ",
        "colab_type": "code",
        "colab": {
          "base_uri": "https://localhost:8080/",
          "height": 35
        },
        "outputId": "fd8c3453-e9a8-479e-b1bb-24724c9b4544"
      },
      "source": [
        "s[::5]"
      ],
      "execution_count": 11,
      "outputs": [
        {
          "output_type": "execute_result",
          "data": {
            "application/vnd.google.colaboratory.intrinsic": {
              "type": "string"
            },
            "text/plain": [
              "'fr'"
            ]
          },
          "metadata": {
            "tags": []
          },
          "execution_count": 11
        }
      ]
    },
    {
      "cell_type": "markdown",
      "metadata": {
        "id": "BTYMyrPN0pAu",
        "colab_type": "text"
      },
      "source": [
        "- [::5] specifies every fifth character, starting at the beginning and proceeding to the end (because the first two indices are allowed to default). \n",
        "- Thus, the result is the first character, 'f', followed by the sixth character, 'r'."
      ]
    },
    {
      "cell_type": "code",
      "metadata": {
        "id": "sD3WbJbRmnVu",
        "colab_type": "code",
        "colab": {
          "base_uri": "https://localhost:8080/",
          "height": 35
        },
        "outputId": "14a6771d-488d-4785-80af-0fa6ee3747b1"
      },
      "source": [
        "s[::-1][::-5]"
      ],
      "execution_count": 12,
      "outputs": [
        {
          "output_type": "execute_result",
          "data": {
            "application/vnd.google.colaboratory.intrinsic": {
              "type": "string"
            },
            "text/plain": [
              "'fr'"
            ]
          },
          "metadata": {
            "tags": []
          },
          "execution_count": 12
        }
      ]
    },
    {
      "cell_type": "markdown",
      "metadata": {
        "id": "i5grC87Y13ko",
        "colab_type": "text"
      },
      "source": [
        "\n",
        "\n",
        "- As above, s[::-1] is 'raboof'. [::-5] specifies every fifth character, starting at the end and proceeding to the beginning (remember that when the stride is negative, the first index defaults to the end of the string, and the second index to the beginning, rather than the other way around). Thus, this returns 'f', then 'r'.\n"
      ]
    },
    {
      "cell_type": "code",
      "metadata": {
        "id": "XQFLLdWmmVN8",
        "colab_type": "code",
        "colab": {
          "base_uri": "https://localhost:8080/",
          "height": 35
        },
        "outputId": "e1c0ef24-8c14-4c59-b9f7-08c4b34bef92"
      },
      "source": [
        "s[::-5]"
      ],
      "execution_count": 13,
      "outputs": [
        {
          "output_type": "execute_result",
          "data": {
            "application/vnd.google.colaboratory.intrinsic": {
              "type": "string"
            },
            "text/plain": [
              "'rf'"
            ]
          },
          "metadata": {
            "tags": []
          },
          "execution_count": 13
        }
      ]
    },
    {
      "cell_type": "markdown",
      "metadata": {
        "id": "KrTuwiJn19fL",
        "colab_type": "text"
      },
      "source": [
        "- The remaining answer, s[::-5], specifies every fifth character, starting at the end of the string and proceeding to the beginning. When s is 'foobar', that results in 'rf'.\n",
        "\n",
        "---"
      ]
    },
    {
      "cell_type": "code",
      "metadata": {
        "id": "3S3uhvItmr8c",
        "colab_type": "code",
        "colab": {
          "base_uri": "https://localhost:8080/",
          "height": 34
        },
        "outputId": "f6c52f2d-64fa-4de6-fda5-f2a92c59b877"
      },
      "source": [
        "s[::-1][::-1] is s"
      ],
      "execution_count": 14,
      "outputs": [
        {
          "output_type": "execute_result",
          "data": {
            "text/plain": [
              "False"
            ]
          },
          "metadata": {
            "tags": []
          },
          "execution_count": 14
        }
      ]
    },
    {
      "cell_type": "code",
      "metadata": {
        "id": "CDzXN49KnARk",
        "colab_type": "code",
        "colab": {
          "base_uri": "https://localhost:8080/",
          "height": 34
        },
        "outputId": "eedf0f12-eb46-4bc0-ff9d-07f85a01cd2f"
      },
      "source": [
        "s[::-1][::-1] == s"
      ],
      "execution_count": 15,
      "outputs": [
        {
          "output_type": "execute_result",
          "data": {
            "text/plain": [
              "True"
            ]
          },
          "metadata": {
            "tags": []
          },
          "execution_count": 15
        }
      ]
    },
    {
      "cell_type": "code",
      "metadata": {
        "id": "H2BbfjcmnCz3",
        "colab_type": "code",
        "colab": {
          "base_uri": "https://localhost:8080/",
          "height": 34
        },
        "outputId": "37da0ed6-a892-473e-cafb-298273ed2bb7"
      },
      "source": [
        "s[:] == s"
      ],
      "execution_count": 16,
      "outputs": [
        {
          "output_type": "execute_result",
          "data": {
            "text/plain": [
              "True"
            ]
          },
          "metadata": {
            "tags": []
          },
          "execution_count": 16
        }
      ]
    },
    {
      "cell_type": "code",
      "metadata": {
        "id": "KbiziTCynFq8",
        "colab_type": "code",
        "colab": {
          "base_uri": "https://localhost:8080/",
          "height": 34
        },
        "outputId": "173fb376-f50c-4ab9-f9d8-22b0e483a5a0"
      },
      "source": [
        "s[:] is s"
      ],
      "execution_count": 17,
      "outputs": [
        {
          "output_type": "execute_result",
          "data": {
            "text/plain": [
              "True"
            ]
          },
          "metadata": {
            "tags": []
          },
          "execution_count": 17
        }
      ]
    },
    {
      "cell_type": "markdown",
      "metadata": {
        "id": "t7V6elqHnQaT",
        "colab_type": "text"
      },
      "source": [
        "s[:] creates an actual reference to the original string s. Thus, not only are s and s[:] equal, they have the same id() as well.\n",
        "\n",
        "s[::-1] reverses s, but creates a reference to a new object. An additional [::-1] slice reverses it again, so it is equal to the original s. But it is not the same object.\n",
        "\n",
        "---"
      ]
    },
    {
      "cell_type": "code",
      "metadata": {
        "id": "9rVbt_EMnILi",
        "colab_type": "code",
        "colab": {}
      },
      "source": [
        "def greet(person):\n",
        "    return f'Hello, my name is {person}.'"
      ],
      "execution_count": 18,
      "outputs": []
    },
    {
      "cell_type": "code",
      "metadata": {
        "id": "Kr3GpjyGs9it",
        "colab_type": "code",
        "colab": {
          "base_uri": "https://localhost:8080/",
          "height": 35
        },
        "outputId": "f2997a2b-eb02-4a2a-c690-cb3456d0854b"
      },
      "source": [
        "greet('gilbert')"
      ],
      "execution_count": 19,
      "outputs": [
        {
          "output_type": "execute_result",
          "data": {
            "application/vnd.google.colaboratory.intrinsic": {
              "type": "string"
            },
            "text/plain": [
              "'Hello, my name is gilbert.'"
            ]
          },
          "metadata": {
            "tags": []
          },
          "execution_count": 19
        }
      ]
    },
    {
      "cell_type": "markdown",
      "metadata": {
        "id": "ZLCCaHW2tG0g",
        "colab_type": "text"
      },
      "source": [
        "An f-string looks like an ordinary string, but it is prefixed with f or F. Interpolated variables in an f-string are enclosed in curly braces.\n",
        "\n",
        "---"
      ]
    },
    {
      "cell_type": "code",
      "metadata": {
        "id": "y0OEDyTws--e",
        "colab_type": "code",
        "colab": {
          "base_uri": "https://localhost:8080/",
          "height": 34
        },
        "outputId": "6428e664-110f-4fc8-b8a1-4be667ccde71"
      },
      "source": [
        "print(\n",
        "    '$100 $200 $300'.count('$'),\n",
        "    '$100 $200 $300'.count('$', 5, 10),\n",
        "    '$100 $200 $300'.count('$', 5)\n",
        ")"
      ],
      "execution_count": 20,
      "outputs": [
        {
          "output_type": "stream",
          "text": [
            "3 1 2\n"
          ],
          "name": "stdout"
        }
      ]
    },
    {
      "cell_type": "markdown",
      "metadata": {
        "id": "2A4QJvLHtvMq",
        "colab_type": "text"
      },
      "source": [
        "str.count() counts occurrences of the given substring within the specified string.\n",
        "\n",
        "The second and third parameters indicate <start> and <end> values, interpreted as for string slicing: the method applies to the portion of the string beginning with character position <start>, up to but not including <end>.\n",
        "\n",
        "---"
      ]
    },
    {
      "cell_type": "code",
      "metadata": {
        "id": "U_3ShL3atoEy",
        "colab_type": "code",
        "colab": {}
      },
      "source": [
        "s = 'foo-bar-baz'"
      ],
      "execution_count": 21,
      "outputs": []
    },
    {
      "cell_type": "code",
      "metadata": {
        "id": "UVFYv-amt0Aw",
        "colab_type": "code",
        "colab": {
          "base_uri": "https://localhost:8080/",
          "height": 35
        },
        "outputId": "3c1a2774-8f93-4ec4-df5a-71a2d1a494af"
      },
      "source": [
        "'-'.join(s.split('-'))"
      ],
      "execution_count": 22,
      "outputs": [
        {
          "output_type": "execute_result",
          "data": {
            "application/vnd.google.colaboratory.intrinsic": {
              "type": "string"
            },
            "text/plain": [
              "'foo-bar-baz'"
            ]
          },
          "metadata": {
            "tags": []
          },
          "execution_count": 22
        }
      ]
    },
    {
      "cell_type": "markdown",
      "metadata": {
        "id": "5xKVpfmSuZvI",
        "colab_type": "text"
      },
      "source": [
        "- .split() and .join() are complementary methods. One reverses the effect of the other.\n"
      ]
    },
    {
      "cell_type": "code",
      "metadata": {
        "id": "Jqi8PavYt3Lk",
        "colab_type": "code",
        "colab": {
          "base_uri": "https://localhost:8080/",
          "height": 35
        },
        "outputId": "4a9234c8-d43a-4d4b-aba4-db9d56846a45"
      },
      "source": [
        "s.strip('-')"
      ],
      "execution_count": 23,
      "outputs": [
        {
          "output_type": "execute_result",
          "data": {
            "application/vnd.google.colaboratory.intrinsic": {
              "type": "string"
            },
            "text/plain": [
              "'foo-bar-baz'"
            ]
          },
          "metadata": {
            "tags": []
          },
          "execution_count": 23
        }
      ]
    },
    {
      "cell_type": "markdown",
      "metadata": {
        "id": "PhYnJZ5K4Iqd",
        "colab_type": "text"
      },
      "source": [
        "\n",
        "- .strip() only removes leading and trailing characters. Since all the '-' characters are in the interior of s, none are removed in this case.\n",
        "These expressions do not return a string equal to s:\n",
        "\n"
      ]
    },
    {
      "cell_type": "code",
      "metadata": {
        "id": "c3RbkERkt5SL",
        "colab_type": "code",
        "colab": {
          "base_uri": "https://localhost:8080/",
          "height": 35
        },
        "outputId": "6f8f2959-0202-4098-f598-453946a29266"
      },
      "source": [
        "'-'.join(s.partition('-'))"
      ],
      "execution_count": 24,
      "outputs": [
        {
          "output_type": "execute_result",
          "data": {
            "application/vnd.google.colaboratory.intrinsic": {
              "type": "string"
            },
            "text/plain": [
              "'foo---bar-baz'"
            ]
          },
          "metadata": {
            "tags": []
          },
          "execution_count": 24
        }
      ]
    },
    {
      "cell_type": "markdown",
      "metadata": {
        "id": "VKHbZATJ4Ww_",
        "colab_type": "text"
      },
      "source": [
        "- Unlike .split(), .partition() includes the separator character in the list it returns. The expression you’d need to join the list back together and obtain s again is ''.join(s.partition('-')).\n",
        "\n"
      ]
    },
    {
      "cell_type": "code",
      "metadata": {
        "id": "3cOdzOtVt8O7",
        "colab_type": "code",
        "colab": {
          "base_uri": "https://localhost:8080/",
          "height": 35
        },
        "outputId": "1fa2a95f-e0ff-4950-fd0d-dcdfaf462956"
      },
      "source": [
        "s.center(15)"
      ],
      "execution_count": 25,
      "outputs": [
        {
          "output_type": "execute_result",
          "data": {
            "application/vnd.google.colaboratory.intrinsic": {
              "type": "string"
            },
            "text/plain": [
              "'  foo-bar-baz  '"
            ]
          },
          "metadata": {
            "tags": []
          },
          "execution_count": 25
        }
      ]
    },
    {
      "cell_type": "markdown",
      "metadata": {
        "id": "VRR9pd1L4VD6",
        "colab_type": "text"
      },
      "source": [
        "- s.center() would return s unchanged if the field width specified were less than or equal to len(s). But it isn’t in this case."
      ]
    },
    {
      "cell_type": "code",
      "metadata": {
        "id": "yhS0qg_4t-56",
        "colab_type": "code",
        "colab": {
          "base_uri": "https://localhost:8080/",
          "height": 35
        },
        "outputId": "22c34847-10a6-409f-ad27-f0b82e05f59e"
      },
      "source": [
        "s.upper().lower()"
      ],
      "execution_count": 26,
      "outputs": [
        {
          "output_type": "execute_result",
          "data": {
            "application/vnd.google.colaboratory.intrinsic": {
              "type": "string"
            },
            "text/plain": [
              "'foo-bar-baz'"
            ]
          },
          "metadata": {
            "tags": []
          },
          "execution_count": 26
        }
      ]
    },
    {
      "cell_type": "markdown",
      "metadata": {
        "id": "bBnsNJm238Jj",
        "colab_type": "text"
      },
      "source": [
        "- .upper() returns a string contianing the upercase variants of all characters in the original string, or \"FOO-BAR-BAZ\" in this case. Then .lower() returns the string with lowercase variants of all characters, which is \"foo-bar-baz\" and is equal to s.\n",
        "\n",
        "---"
      ]
    },
    {
      "cell_type": "code",
      "metadata": {
        "id": "SnmzEICsuBas",
        "colab_type": "code",
        "colab": {
          "base_uri": "https://localhost:8080/",
          "height": 34
        },
        "outputId": "3cc914f5-1166-47fa-b0fe-43131e66804d"
      },
      "source": [
        "bytes(5)"
      ],
      "execution_count": 27,
      "outputs": [
        {
          "output_type": "execute_result",
          "data": {
            "text/plain": [
              "b'\\x00\\x00\\x00\\x00\\x00'"
            ]
          },
          "metadata": {
            "tags": []
          },
          "execution_count": 27
        }
      ]
    },
    {
      "cell_type": "code",
      "metadata": {
        "id": "fSRyBda0uqO8",
        "colab_type": "code",
        "colab": {
          "base_uri": "https://localhost:8080/",
          "height": 34
        },
        "outputId": "22053ace-4ab3-43ae-9bcd-6e1f7b4b10b8"
      },
      "source": [
        "bytes([0] * 5)"
      ],
      "execution_count": 28,
      "outputs": [
        {
          "output_type": "execute_result",
          "data": {
            "text/plain": [
              "b'\\x00\\x00\\x00\\x00\\x00'"
            ]
          },
          "metadata": {
            "tags": []
          },
          "execution_count": 28
        }
      ]
    },
    {
      "cell_type": "code",
      "metadata": {
        "id": "bVq3mEDPur81",
        "colab_type": "code",
        "colab": {
          "base_uri": "https://localhost:8080/",
          "height": 34
        },
        "outputId": "f05d62cd-13e9-4a6b-d31e-91dc6d1c57c2"
      },
      "source": [
        "bytes('\\x00\\x00\\x00\\x00\\x00', 'utf-8')"
      ],
      "execution_count": 29,
      "outputs": [
        {
          "output_type": "execute_result",
          "data": {
            "text/plain": [
              "b'\\x00\\x00\\x00\\x00\\x00'"
            ]
          },
          "metadata": {
            "tags": []
          },
          "execution_count": 29
        }
      ]
    },
    {
      "cell_type": "code",
      "metadata": {
        "id": "HTrDcYI3utMH",
        "colab_type": "code",
        "colab": {
          "base_uri": "https://localhost:8080/",
          "height": 162
        },
        "outputId": "a6e9d7cd-96e1-440e-a4c9-c084941221af"
      },
      "source": [
        "bytes(0, 0, 0, 0, 0)"
      ],
      "execution_count": 30,
      "outputs": [
        {
          "output_type": "error",
          "ename": "TypeError",
          "evalue": "ignored",
          "traceback": [
            "\u001b[0;31m---------------------------------------------------------------------------\u001b[0m",
            "\u001b[0;31mTypeError\u001b[0m                                 Traceback (most recent call last)",
            "\u001b[0;32m<ipython-input-30-d3349009d3f6>\u001b[0m in \u001b[0;36m<module>\u001b[0;34m()\u001b[0m\n\u001b[0;32m----> 1\u001b[0;31m \u001b[0mbytes\u001b[0m\u001b[0;34m(\u001b[0m\u001b[0;36m0\u001b[0m\u001b[0;34m,\u001b[0m \u001b[0;36m0\u001b[0m\u001b[0;34m,\u001b[0m \u001b[0;36m0\u001b[0m\u001b[0;34m,\u001b[0m \u001b[0;36m0\u001b[0m\u001b[0;34m,\u001b[0m \u001b[0;36m0\u001b[0m\u001b[0;34m)\u001b[0m\u001b[0;34m\u001b[0m\u001b[0;34m\u001b[0m\u001b[0m\n\u001b[0m",
            "\u001b[0;31mTypeError\u001b[0m: bytes() takes at most 3 arguments (5 given)"
          ]
        }
      ]
    },
    {
      "cell_type": "markdown",
      "metadata": {
        "id": "JOPx5fSCu3wn",
        "colab_type": "text"
      },
      "source": [
        "As arguments, bytes() takes an integer, a string and an encoding, or an iterable. But not multiple integers.\n",
        "\n",
        "---"
      ]
    },
    {
      "cell_type": "code",
      "metadata": {
        "id": "5yljddQzuwUZ",
        "colab_type": "code",
        "colab": {
          "base_uri": "https://localhost:8080/",
          "height": 162
        },
        "outputId": "b7bedea5-6c50-43d3-ce04-f5811335618a"
      },
      "source": [
        "list((b'abcde' + 'fghi')[3:6])"
      ],
      "execution_count": 31,
      "outputs": [
        {
          "output_type": "error",
          "ename": "TypeError",
          "evalue": "ignored",
          "traceback": [
            "\u001b[0;31m---------------------------------------------------------------------------\u001b[0m",
            "\u001b[0;31mTypeError\u001b[0m                                 Traceback (most recent call last)",
            "\u001b[0;32m<ipython-input-31-ca865f966fa7>\u001b[0m in \u001b[0;36m<module>\u001b[0;34m()\u001b[0m\n\u001b[0;32m----> 1\u001b[0;31m \u001b[0mlist\u001b[0m\u001b[0;34m(\u001b[0m\u001b[0;34m(\u001b[0m\u001b[0;34mb'abcde'\u001b[0m \u001b[0;34m+\u001b[0m \u001b[0;34m'fghi'\u001b[0m\u001b[0;34m)\u001b[0m\u001b[0;34m[\u001b[0m\u001b[0;36m3\u001b[0m\u001b[0;34m:\u001b[0m\u001b[0;36m6\u001b[0m\u001b[0;34m]\u001b[0m\u001b[0;34m)\u001b[0m\u001b[0;34m\u001b[0m\u001b[0;34m\u001b[0m\u001b[0m\n\u001b[0m",
            "\u001b[0;31mTypeError\u001b[0m: can't concat str to bytes"
          ]
        }
      ]
    },
    {
      "cell_type": "markdown",
      "metadata": {
        "id": "nxxfDdLKy3U1",
        "colab_type": "text"
      },
      "source": [
        "The error lies in the expression (b'abcde' + 'fghi').\n",
        "\n",
        "You can concatenate two bytes objects with the + operator, but not a bytes object and string:\n",
        "\n",
        "---"
      ]
    },
    {
      "cell_type": "code",
      "metadata": {
        "id": "IwzfTPeyy1y8",
        "colab_type": "code",
        "colab": {}
      },
      "source": [
        "array_of_bytes = bytearray(b'15\\x80a#')"
      ],
      "execution_count": 32,
      "outputs": []
    },
    {
      "cell_type": "code",
      "metadata": {
        "id": "wPGaMCSOzG87",
        "colab_type": "code",
        "colab": {
          "base_uri": "https://localhost:8080/",
          "height": 34
        },
        "outputId": "5843e876-fdc8-44e3-a0d9-d41517b7bde7"
      },
      "source": [
        "array_of_bytes"
      ],
      "execution_count": 33,
      "outputs": [
        {
          "output_type": "execute_result",
          "data": {
            "text/plain": [
              "bytearray(b'15\\x80a#')"
            ]
          },
          "metadata": {
            "tags": []
          },
          "execution_count": 33
        }
      ]
    },
    {
      "cell_type": "markdown",
      "metadata": {
        "id": "V9NFeKDUzP3T",
        "colab_type": "text"
      },
      "source": [
        "You can also create a bytearray object with the bytearray() function, passing an integer, a string and an encoding, or an iterable.\n",
        "\n",
        "But there is no built-in syntax for defining a bytearray object, similar to the b'' syntax for a bytes object.\n",
        "\n",
        "---"
      ]
    },
    {
      "cell_type": "code",
      "metadata": {
        "id": "2WB_PTCi5Kyx",
        "colab_type": "code",
        "colab": {}
      },
      "source": [
        ""
      ],
      "execution_count": 33,
      "outputs": []
    }
  ]
}